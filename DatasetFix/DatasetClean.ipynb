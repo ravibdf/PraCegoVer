{
 "cells": [
  {
   "cell_type": "markdown",
   "id": "25f7dca7-95f3-436d-8fb6-e1706428c6ca",
   "metadata": {},
   "source": [
    "### Começo"
   ]
  },
  {
   "cell_type": "code",
   "execution_count": 18,
   "id": "ff74f28a-77f1-40e1-a03e-381c30ea094a",
   "metadata": {},
   "outputs": [],
   "source": [
    "import json\n",
    "from tqdm import tqdm"
   ]
  },
  {
   "cell_type": "code",
   "execution_count": 2,
   "id": "4d46ce29-4b81-4ee8-a62f-2b8f02d585cb",
   "metadata": {},
   "outputs": [],
   "source": [
    "PATH  = \"C:/Users/rbdf/Documents/Datasets/PraCegoVer/images/\"\n",
    "file = \"C:\\\\Users\\\\rbdf\\\\Documents\\\\Datasets\\\\PraCegoVer\\\\dataset.json\""
   ]
  },
  {
   "cell_type": "code",
   "execution_count": 5,
   "id": "e7c093fe-48ab-4a48-a46c-03c01541f1ba",
   "metadata": {},
   "outputs": [],
   "source": [
    "# reading original json\n",
    "with open(file, 'r') as f:\n",
    "    annotations = json.load(f)"
   ]
  },
  {
   "cell_type": "code",
   "execution_count": 11,
   "id": "f898791f-6394-4c67-9865-d18318c47828",
   "metadata": {},
   "outputs": [
    {
     "data": {
      "text/plain": [
       "'i-00000000.jpg'"
      ]
     },
     "execution_count": 11,
     "metadata": {},
     "output_type": "execute_result"
    }
   ],
   "source": [
    "annotations[0]['filename']"
   ]
  },
  {
   "cell_type": "code",
   "execution_count": 22,
   "id": "5a84fc8b-a681-47b8-9681-4cc8daece5c5",
   "metadata": {},
   "outputs": [
    {
     "name": "stderr",
     "output_type": "stream",
     "text": [
      "100%|██████████| 533523/533523 [20:46<00:00, 427.97it/s] \n"
     ]
    }
   ],
   "source": [
    "# First attempt to find corrupted files\n",
    "from struct import unpack\n",
    "import os\n",
    "\n",
    "\n",
    "marker_mapping = {\n",
    "    0xffd8: \"Start of Image\",\n",
    "    0xffe0: \"Application Default Header\",\n",
    "    0xffdb: \"Quantization Table\",\n",
    "    0xffc0: \"Start of Frame\",\n",
    "    0xffc4: \"Define Huffman Table\",\n",
    "    0xffda: \"Start of Scan\",\n",
    "    0xffd9: \"End of Image\"\n",
    "}\n",
    "\n",
    "\n",
    "class JPEG:\n",
    "    def __init__(self, image_file):\n",
    "        with open(image_file, 'rb') as f:\n",
    "            self.img_data = f.read()\n",
    "    \n",
    "    def decode(self):\n",
    "        data = self.img_data\n",
    "        while(True):\n",
    "            marker, = unpack(\">H\", data[0:2])\n",
    "            # print(marker_mapping.get(marker))\n",
    "            if marker == 0xffd8:\n",
    "                data = data[2:]\n",
    "            elif marker == 0xffd9:\n",
    "                return\n",
    "            elif marker == 0xffda:\n",
    "                data = data[-2:]\n",
    "            else:\n",
    "                lenchunk, = unpack(\">H\", data[2:4])\n",
    "                data = data[2+lenchunk:]            \n",
    "            if len(data)==0:\n",
    "                break        \n",
    "\n",
    "bads = []\n",
    "\n",
    "for img in tqdm(annotations):\n",
    "    img_file = PATH+img['filename']\n",
    "    # print(PATH+img['filename'])\n",
    "    # image = osp.join(root_img,img)\n",
    "    image = JPEG(img_file) \n",
    "    try:\n",
    "        image.decode()   \n",
    "    except:\n",
    "        bads.append(img_file)\n",
    "    # break\n",
    "    "
   ]
  },
  {
   "cell_type": "code",
   "execution_count": 23,
   "id": "ce06dc13-3871-439a-99a0-cef755727742",
   "metadata": {},
   "outputs": [
    {
     "name": "stdout",
     "output_type": "stream",
     "text": [
      "533523\n",
      "533510\n"
     ]
    }
   ],
   "source": [
    "print(len(annotations))\n",
    "\n",
    "for k in bads:\n",
    "    del annotations[int(k[-12:-4])]\n",
    "print(len(annotations))"
   ]
  },
  {
   "cell_type": "code",
   "execution_count": null,
   "id": "b4c123f9-7ce2-4589-8a09-d521cf38ee9e",
   "metadata": {},
   "outputs": [],
   "source": [
    "import json\n",
    "with open('Annotations_PraCegoVer_fix.json', 'w') as f:\n",
    "    json.dump(annotations, f)"
   ]
  }
 ],
 "metadata": {
  "kernelspec": {
   "display_name": "Python 3 (ipykernel)",
   "language": "python",
   "name": "python3"
  },
  "language_info": {
   "codemirror_mode": {
    "name": "ipython",
    "version": 3
   },
   "file_extension": ".py",
   "mimetype": "text/x-python",
   "name": "python",
   "nbconvert_exporter": "python",
   "pygments_lexer": "ipython3",
   "version": "3.9.12"
  }
 },
 "nbformat": 4,
 "nbformat_minor": 5
}
